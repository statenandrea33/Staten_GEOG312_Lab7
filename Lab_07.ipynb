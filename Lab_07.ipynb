{
  "cells": [
    {
      "cell_type": "markdown",
      "metadata": {
        "id": "view-in-github",
        "colab_type": "text"
      },
      "source": [
        "<a href=\"https://colab.research.google.com/github/statenandrea33/Staten_GEOG312_Lab7/blob/main/Lab_07.ipynb\" target=\"_parent\"><img src=\"https://colab.research.google.com/assets/colab-badge.svg\" alt=\"Open In Colab\"/></a>"
      ]
    },
    {
      "cell_type": "markdown",
      "metadata": {
        "id": "R7UUNMB0PlD7"
      },
      "source": [
        "[![image](https://colab.research.google.com/assets/colab-badge.svg)](https://colab.research.google.com/github/giswqs/geog-312/blob/master/labs/lab_07.ipynb)\n",
        "[![image](https://binder.pangeo.io/badge_logo.svg)](https://gishub.org/geog312-pangeo)\n",
        "\n",
        "**Firstname Lastname**"
      ]
    },
    {
      "cell_type": "code",
      "execution_count": 1,
      "metadata": {
        "id": "lIhv4KtiPlEA",
        "colab": {
          "base_uri": "https://localhost:8080/"
        },
        "outputId": "ef85bafe-e30d-4aff-d2b1-c3f31bdcaab4"
      },
      "outputs": [
        {
          "output_type": "stream",
          "name": "stdout",
          "text": [
            "Submitted time: 2023-11-05 23:37:17.764953\n"
          ]
        }
      ],
      "source": [
        "from datetime import datetime\n",
        "\n",
        "now = datetime.now()\n",
        "print(f\"Submitted time: {now}\")"
      ]
    },
    {
      "cell_type": "markdown",
      "metadata": {
        "id": "oIEgleCDPlEC"
      },
      "source": [
        "## Question 1\n",
        "**Learning Python:** Open a blank file in your text editor and write a few lines summarizing what you’ve learned about Python so far. Start each line with the phrase *In Python you can. . ..* Save the file as *learning_python.txt* in the same directory as your exercises from this chapter. Write a program that reads the file and prints what you wrote three times. Print the contents once by reading in the entire file, once by looping over the file object, and once by storing the lines in a list and then working with them outside the *with* block."
      ]
    },
    {
      "cell_type": "code",
      "execution_count": 2,
      "metadata": {
        "id": "vmijTRe0PlEC",
        "colab": {
          "base_uri": "https://localhost:8080/"
        },
        "outputId": "1ebfbf6e-4e34-4f5d-bfb7-d803a31fd4ef"
      },
      "outputs": [
        {
          "output_type": "stream",
          "name": "stdout",
          "text": [
            "Method 1 - Read the entire file:\n",
            "In Python you can create variables and assign values to them.\n",
            "In Python you can use if statements for conditional logic.\n",
            "In Python you can define functions to reuse blocks of code.\n",
            "\n",
            "\n",
            "Method 2 - Loop over the file object:\n",
            "In Python you can create variables and assign values to them.\n",
            "In Python you can use if statements for conditional logic.\n",
            "In Python you can define functions to reuse blocks of code.\n",
            "\n",
            "Method 3 - Store lines in a list and work with them outside the with block:\n",
            "In Python you can create variables and assign values to them.\n",
            "In Python you can use if statements for conditional logic.\n",
            "In Python you can define functions to reuse blocks of code.\n"
          ]
        }
      ],
      "source": [
        "with open(\"learning_python.txt\", \"r\") as file:\n",
        "  contents = file.read()\n",
        "  print(\"Method 1 - Read the entire file:\")\n",
        "  print(contents)\n",
        "\n",
        "with open(\"learning_python.txt\", \"r\") as file:\n",
        "  print(\"\\nMethod 2 - Loop over the file object:\")\n",
        "  for line in file:\n",
        "    print(line, end=\"\")\n",
        "\n",
        "lines = []\n",
        "with open(\"learning_python.txt\", \"r\") as file:\n",
        "  print(\"\\nMethod 3 - Store lines in a list and work with them outside the with block:\")\n",
        "  lines = file.readlines()\n",
        "\n",
        "for line in lines:\n",
        "  print(line, end=\"\")"
      ]
    },
    {
      "cell_type": "markdown",
      "metadata": {
        "id": "b_-R-aBPPlED"
      },
      "source": [
        "## Question 2\n",
        "**Learning C:** You can use the replace() method to replace any word in a string with a different word. Here’s a quick example showing how to replace 'dog' with 'cat' in a sentence:\n",
        "```\n",
        "message = \"I really like dogs.\"\n",
        "message.replace('dog', 'cat')\n",
        "'I really like cats.'\n",
        "```\n",
        "Read in each line from the file you just created, *learning_python.txt*, and replace the word *Python* with the name of another language, such as *C*. Print each modified line to the screen."
      ]
    },
    {
      "cell_type": "code",
      "execution_count": 3,
      "metadata": {
        "id": "aaBwfbJ_PlED",
        "colab": {
          "base_uri": "https://localhost:8080/"
        },
        "outputId": "ec855660-e5b2-46f2-b20a-4a04220f014d"
      },
      "outputs": [
        {
          "output_type": "stream",
          "name": "stdout",
          "text": [
            "In C you can create variables and assign values to them.\n",
            "In C you can use if statements for conditional logic.\n",
            "In C you can define functions to reuse blocks of code.\n"
          ]
        }
      ],
      "source": [
        "with open(\"learning_python.txt\", \"r\") as file:\n",
        "  lines = file.readlines()\n",
        "\n",
        "for line in lines:\n",
        "  modified_line = line.replace(\"Python\", \"C\")\n",
        "  print(modified_line, end=\"\")\n",
        "\n",
        "file.close()"
      ]
    },
    {
      "cell_type": "markdown",
      "metadata": {
        "id": "n7fiZq6VPlED"
      },
      "source": [
        "## Question 3\n",
        "**Guest:** Write a program that prompts the user for their name. When they respond, write their name to a file called guest.txt."
      ]
    },
    {
      "cell_type": "code",
      "execution_count": 4,
      "metadata": {
        "id": "BM9MV_2dPlEE",
        "colab": {
          "base_uri": "https://localhost:8080/"
        },
        "outputId": "517a93dc-807c-4556-feb1-b3758b40f635"
      },
      "outputs": [
        {
          "name": "stdout",
          "output_type": "stream",
          "text": [
            "What's your name?Andrea\n"
          ]
        }
      ],
      "source": [
        "name = input(\"What's your name?\")\n",
        "\n",
        "filename = 'guest.txt'\n",
        "\n",
        "with open(filename, 'w') as file_object:\n",
        "    file_object.write(name)"
      ]
    },
    {
      "cell_type": "markdown",
      "metadata": {
        "id": "Ftrs0LoMPlEE"
      },
      "source": [
        "## Question 4\n",
        "**Guest Book:** Write a while loop that prompts users for their name. When they enter their name, print a greeting to the screen and add a line recording their visit in a file called guest_book.txt. Make sure each entry appears on a new line in the file."
      ]
    },
    {
      "cell_type": "code",
      "execution_count": 5,
      "metadata": {
        "id": "rmtT11qXPlEE",
        "colab": {
          "base_uri": "https://localhost:8080/"
        },
        "outputId": "23435791-ed58-45d2-ddfb-bb9fef22099e"
      },
      "outputs": [
        {
          "name": "stdout",
          "output_type": "stream",
          "text": [
            "Enter 'quit' when you are finished.\n",
            "\n",
            "What's your name? Max\n",
            "Hello Max ,you've been added to the guest book.\n",
            "\n",
            "What's your name? Andrea\n",
            "Hello Andrea ,you've been added to the guest book.\n",
            "\n",
            "What's your name? Jill\n",
            "Hello Jill ,you've been added to the guest book.\n",
            "\n",
            "What's your name? Abby\n",
            "Hello Abby ,you've been added to the guest book.\n",
            "\n",
            "What's your name? quit\n"
          ]
        }
      ],
      "source": [
        "filename = 'guest_book.txt'\n",
        "\n",
        "print(\"Enter 'quit' when you are finished.\")\n",
        "while True:\n",
        "    name = input(\"\\nWhat's your name? \")\n",
        "    if name == 'quit':\n",
        "        break\n",
        "    else:\n",
        "        with open(filename, 'a') as file_object:\n",
        "            file_object.write(name + \"\\n\")\n",
        "        print(f\"Hello {name} ,you've been added to the guest book.\")"
      ]
    },
    {
      "cell_type": "markdown",
      "metadata": {
        "id": "SC6HOzxuPlEF"
      },
      "source": [
        "## Question 5\n",
        "**Programming Poll:** Write a while loop that asks people why they like programming. Each time someone enters a reason, add their reason to a file that stores all the responses."
      ]
    },
    {
      "cell_type": "code",
      "execution_count": 6,
      "metadata": {
        "id": "xLuO3Xh2PlEF",
        "colab": {
          "base_uri": "https://localhost:8080/"
        },
        "outputId": "97b2f6b0-cf5c-400e-a1dc-aa02fff8f7cd"
      },
      "outputs": [
        {
          "name": "stdout",
          "output_type": "stream",
          "text": [
            "\n",
            "Why do you like programming? I like learning more about what you can do.\n",
            "Would you like to let someone else respond? (y/n) y\n",
            "\n",
            "Why do you like programming? I like the analytical process.\n",
            "Would you like to let someone else respond? (y/n) n\n"
          ]
        }
      ],
      "source": [
        "filename = 'programming_poll.txt'\n",
        "\n",
        "responses = []\n",
        "while True:\n",
        "    response = input(\"\\nWhy do you like programming? \")\n",
        "    responses.append(response)\n",
        "\n",
        "    continue_poll = input(\"Would you like to let someone else respond? (y/n) \")\n",
        "    if continue_poll != 'y':\n",
        "        break\n",
        "\n",
        "with open(filename, 'a') as file_object:\n",
        "    for response in responses:\n",
        "        file_object.write(response + \"\\n\")"
      ]
    },
    {
      "cell_type": "markdown",
      "metadata": {
        "id": "vYC-S9EDPlEF"
      },
      "source": [
        "## Question 6\n",
        "**Addition:** One common problem when prompting for numerical input occurs when people provide text instead of numbers. When you try to convert the input to an int, you’ll get a ValueError. Write a program that prompts for two numbers. Add them together and print the result. Catch the ValueError if either input value is not a number, and print a friendly error message. Test your program by entering two numbers and then by entering some text instead of a number."
      ]
    },
    {
      "cell_type": "code",
      "execution_count": 7,
      "metadata": {
        "id": "OACPM5P0PlEG",
        "colab": {
          "base_uri": "https://localhost:8080/"
        },
        "outputId": "5ef01965-1216-416d-fcc1-d2c3b21da9ad"
      },
      "outputs": [
        {
          "output_type": "stream",
          "name": "stdout",
          "text": [
            "Enter a number.2156\n",
            "Enter another number.4842154\n",
            "The sum of 2156 and 4842154 is 4844310.\n"
          ]
        }
      ],
      "source": [
        "try:\n",
        "    x = input(\"Enter a number.\")\n",
        "    x = int(x)\n",
        "\n",
        "    y = input(\"Enter another number.\")\n",
        "    y = int(y)\n",
        "\n",
        "except ValueError:\n",
        "    print(\"Sorry, please try entering the numbers again.\")\n",
        "else:\n",
        "    sum = x + y\n",
        "    print(f\"The sum of {x} and {y} is {sum}.\")"
      ]
    },
    {
      "cell_type": "markdown",
      "metadata": {
        "id": "Up12pGyNPlEG"
      },
      "source": [
        "## Question 7\n",
        "**Addition Calculator:** Wrap your code from Question 6 in a while loop so the user can continue entering numbers even if they make a mistake and enter text instead of a number."
      ]
    },
    {
      "cell_type": "code",
      "execution_count": 8,
      "metadata": {
        "id": "d1rZXCqHPlEG",
        "colab": {
          "base_uri": "https://localhost:8080/"
        },
        "outputId": "617cde31-1a13-4d0a-8aea-53c277fd5424"
      },
      "outputs": [
        {
          "name": "stdout",
          "output_type": "stream",
          "text": [
            "Enter 'quit' at any time to quit.\n",
            "Enter a number.5548\n",
            "Enter another number.544\n",
            "The sum of 5548 and 544 is 6092.\n",
            "Enter a number.g\n",
            "Sorry, please try entering the numbers again.\n",
            "Enter a number.r\n",
            "Sorry, please try entering the numbers again.\n",
            "Enter a number.54\n",
            "Enter another number.258975546\n",
            "The sum of 54 and 258975546 is 258975600.\n",
            "Enter a number.quit\n"
          ]
        }
      ],
      "source": [
        "print(\"Enter 'quit' at any time to quit.\")\n",
        "\n",
        "while True:\n",
        "    try:\n",
        "        x = input(\"Enter a number.\")\n",
        "        if x == 'quit':\n",
        "            break\n",
        "        x = int(x)\n",
        "\n",
        "\n",
        "        y = input(\"Enter another number.\")\n",
        "        if y == 'quit':\n",
        "            break\n",
        "        y = int(y)\n",
        "\n",
        "    except ValueError:\n",
        "        print(\"Sorry, please try entering the numbers again.\")\n",
        "    else:\n",
        "        sum = x + y\n",
        "        print(f\"The sum of {x} and {y} is {sum}.\")"
      ]
    },
    {
      "cell_type": "markdown",
      "metadata": {
        "id": "JzbULG39PlEG"
      },
      "source": [
        "## Question 8\n",
        "**Cats and Dogs:** Make two files, *cats.txt* and *dogs.txt*. Store at least three names of cats in the first file and three names of dogs in the second file. Write a program that tries to read these files and print the contents of the file to the screen. Wrap your code in a `try-except` block to catch the `FileNotFound` error, and print a friendly message if a file is missing. Move one of the files to a different location on your system, and make sure the code in the `except` block executes properly."
      ]
    },
    {
      "cell_type": "code",
      "execution_count": 21,
      "metadata": {
        "id": "i2akQ-cdPlEH",
        "colab": {
          "base_uri": "https://localhost:8080/"
        },
        "outputId": "12c1b974-f438-4aa6-f852-bc5e7986c113"
      },
      "outputs": [
        {
          "output_type": "stream",
          "name": "stdout",
          "text": [
            "\n",
            "File:cats.txt\n",
            "\n",
            "\n",
            "File:dogs.txt\n",
            "\n"
          ]
        }
      ],
      "source": [
        "filenames = ['cats.txt', 'dogs.txt']\n",
        "file_object = open(\"cats.txt\", 'w')\n",
        "file_object.write(\"kitty\\nletty\\npeaches\")\n",
        "file_object1 = open(\"dogs.txt\", 'w')\n",
        "file_object1.write(\"charlie\\nannabelle\\nzoey\")\n",
        "for filename in filenames:\n",
        "    print(\"\\nFile:\" + filename)\n",
        "    try:\n",
        "        with open (filename) as file_objects:\n",
        "            contents = file_objects.read()\n",
        "            print(contents)\n",
        "    except FileNotFoundError:\n",
        "        print(\"Sorry, I can not find that file.\")"
      ]
    },
    {
      "cell_type": "markdown",
      "metadata": {
        "id": "Ep0pKyEhPlEH"
      },
      "source": [
        "## Question 9\n",
        "**Silent Cats and Dogs:** Modify your except block in Question 8 to fail silently if either file is missing."
      ]
    },
    {
      "cell_type": "code",
      "execution_count": 18,
      "metadata": {
        "id": "M3ppatQFPlEH",
        "colab": {
          "base_uri": "https://localhost:8080/"
        },
        "outputId": "9f5cbb89-94bc-4892-f5bb-5c9824de6ea1"
      },
      "outputs": [
        {
          "output_type": "stream",
          "name": "stdout",
          "text": [
            "\n",
            "File:cats.txt\n",
            "\n",
            "\n",
            "File:dogs.txt\n",
            "\n"
          ]
        }
      ],
      "source": [
        "filenames = ['cats.txt', 'dogs.txt']\n",
        "\n",
        "for filename in filenames:\n",
        "    try:\n",
        "        with open(filename) as file_objects:\n",
        "            contents = file_objects.read()\n",
        "\n",
        "    except FileNotFoundError:\n",
        "        pass\n",
        "\n",
        "    else:\n",
        "        print(\"\\nFile:\" + filename)\n",
        "        print(contents)"
      ]
    },
    {
      "cell_type": "markdown",
      "metadata": {
        "id": "zQY0Ty_5PlEH"
      },
      "source": [
        "## Question 10\n",
        "**Common Words:** Visit Project Gutenberg (https://gutenberg.org/) and find a few texts you’d like to analyze. Download the text files for these works, or copy the raw text from your browser into a text file on your computer. You can use the `count()` method to find out how many times a word or phrase appears in a string. For example, the following code counts the number of times 'row' appears in a string:"
      ]
    },
    {
      "cell_type": "code",
      "execution_count": 11,
      "metadata": {
        "id": "swhz6tshPlEH",
        "outputId": "d4058b8b-6639-42b9-e05c-cb913874856d",
        "colab": {
          "base_uri": "https://localhost:8080/"
        }
      },
      "outputs": [
        {
          "output_type": "execute_result",
          "data": {
            "text/plain": [
              "2"
            ]
          },
          "metadata": {},
          "execution_count": 11
        }
      ],
      "source": [
        "line = \"Row, row, row your boat\"\n",
        "line.count('row')"
      ]
    },
    {
      "cell_type": "code",
      "execution_count": 12,
      "metadata": {
        "id": "BzxOHaOVPlEI",
        "outputId": "cb4bd353-86ff-4fba-9037-f697fd3f26f5",
        "colab": {
          "base_uri": "https://localhost:8080/"
        }
      },
      "outputs": [
        {
          "output_type": "execute_result",
          "data": {
            "text/plain": [
              "3"
            ]
          },
          "metadata": {},
          "execution_count": 12
        }
      ],
      "source": [
        "line.lower().count('row')"
      ]
    },
    {
      "cell_type": "markdown",
      "metadata": {
        "id": "3uUGH7Z8PlEI"
      },
      "source": [
        "Notice that converting the string to lowercase using lower() catches all appearances of the word you’re looking for, regardless of how it’s formatted.\n",
        "\n",
        "Write a program that reads the files you found at Project Gutenberg and determines how many times the word `the` appears in each text. This will be an approximation because it will also count words such as `then` and `there`. Try counting `the`, with a space in the string, and see how much lower your count is."
      ]
    },
    {
      "cell_type": "code",
      "execution_count": 19,
      "metadata": {
        "id": "3cz9MGAlPlEI",
        "colab": {
          "base_uri": "https://localhost:8080/"
        },
        "outputId": "c44937d3-fe6a-41cb-c895-3c50d4397e6a"
      },
      "outputs": [
        {
          "output_type": "stream",
          "name": "stdout",
          "text": [
            "--2023-11-05 23:42:07--  https://raw.githubusercontent.com/statenandrea33/GEOG312_Lab6/main/Middlemarch.txt\n",
            "Resolving raw.githubusercontent.com (raw.githubusercontent.com)... 185.199.108.133, 185.199.109.133, 185.199.110.133, ...\n",
            "Connecting to raw.githubusercontent.com (raw.githubusercontent.com)|185.199.108.133|:443... connected.\n",
            "HTTP request sent, awaiting response... 200 OK\n",
            "Length: 1831812 (1.7M) [text/plain]\n",
            "Saving to: ‘Middlemarch.txt.6’\n",
            "\n",
            "\rMiddlemarch.txt.6     0%[                    ]       0  --.-KB/s               \rMiddlemarch.txt.6   100%[===================>]   1.75M  --.-KB/s    in 0.02s   \n",
            "\n",
            "2023-11-05 23:42:07 (106 MB/s) - ‘Middlemarch.txt.6’ saved [1831812/1831812]\n",
            "\n",
            "--2023-11-05 23:42:08--  https://raw.githubusercontent.com/statenandrea33/Staten_GEOG312_Lab7/main/A%20Room%20with%20a%20View.txt\n",
            "Resolving raw.githubusercontent.com (raw.githubusercontent.com)... 185.199.110.133, 185.199.111.133, 185.199.108.133, ...\n",
            "Connecting to raw.githubusercontent.com (raw.githubusercontent.com)|185.199.110.133|:443... connected.\n",
            "HTTP request sent, awaiting response... 200 OK\n",
            "Length: 406490 (397K) [text/plain]\n",
            "Saving to: ‘A Room with a View.txt’\n",
            "\n",
            "A Room with a View. 100%[===================>] 396.96K  --.-KB/s    in 0.007s  \n",
            "\n",
            "2023-11-05 23:42:08 (54.1 MB/s) - ‘A Room with a View.txt’ saved [406490/406490]\n",
            "\n",
            "--2023-11-05 23:42:08--  https://raw.githubusercontent.com/statenandrea33/GEOG312_Lab6/main/Romeo%20and%20Juliet.txt\n",
            "Resolving raw.githubusercontent.com (raw.githubusercontent.com)... 185.199.108.133, 185.199.109.133, 185.199.110.133, ...\n",
            "Connecting to raw.githubusercontent.com (raw.githubusercontent.com)|185.199.108.133|:443... connected.\n",
            "HTTP request sent, awaiting response... 200 OK\n",
            "Length: 163622 (160K) [text/plain]\n",
            "Saving to: ‘Romeo and Juliet.txt.3’\n",
            "\n",
            "Romeo and Juliet.tx 100%[===================>] 159.79K  --.-KB/s    in 0.005s  \n",
            "\n",
            "2023-11-05 23:42:08 (29.8 MB/s) - ‘Romeo and Juliet.txt.3’ saved [163622/163622]\n",
            "\n",
            "Enter the common word you are wanting to count in the text file:Middlemarch.txt the \n",
            "The word ' the ' is seen 10421 times within the text file Middlemarch.txt.\n",
            "Enter the common word you are wanting to count in the text file:A Room with a View.txt the \n",
            "The word ' the ' is seen 2682 times within the text file A Room with a View.txt.\n",
            "Enter the common word you are wanting to count in the text file:Romeo and Juliet.txt the \n",
            "The word ' the ' is seen 757 times within the text file Romeo and Juliet.txt.\n"
          ]
        }
      ],
      "source": [
        "filenames = ['Middlemarch.txt', 'A Room with a View.txt', 'Romeo and Juliet.txt']\n",
        "!wget https://raw.githubusercontent.com/statenandrea33/GEOG312_Lab6/main/Middlemarch.txt\n",
        "!wget https://raw.githubusercontent.com/statenandrea33/Staten_GEOG312_Lab7/main/A%20Room%20with%20a%20View.txt\n",
        "!wget https://raw.githubusercontent.com/statenandrea33/GEOG312_Lab6/main/Romeo%20and%20Juliet.txt\n",
        "for filename in filenames:\n",
        "    word = input(f\"Enter the common word you are wanting to count in the text file:{filename}\")\n",
        "    try:\n",
        "        with open (filename) as file_object:\n",
        "            contents = file_object.read()\n",
        "            count = contents.lower().count(word)\n",
        "            print(f\"The word '{word}' is seen {count} times within the text file {filename}.\" )\n",
        "    except FileNotFoundError:\n",
        "        pass"
      ]
    },
    {
      "cell_type": "markdown",
      "metadata": {
        "id": "0TUHU__GPlEI"
      },
      "source": [
        "## Question 11\n",
        "**Favorite Number:** Write a program that prompts for the user’s favorite number. Use `json.dump()` to store this number in a file. Write a separate program that reads in this value and prints the message, `I know your favorite number! It’s _____.`"
      ]
    },
    {
      "cell_type": "code",
      "execution_count": 14,
      "metadata": {
        "id": "zu4U2rQKPlEJ",
        "colab": {
          "base_uri": "https://localhost:8080/"
        },
        "outputId": "4688b8d1-343e-499e-a1c1-6fd47e29add0"
      },
      "outputs": [
        {
          "output_type": "stream",
          "name": "stdout",
          "text": [
            "What's your favorite number? 33\n",
            "Thanks! I'll remember that.\n"
          ]
        }
      ],
      "source": [
        "import json\n",
        "\n",
        "number = input(\"What's your favorite number? \")\n",
        "\n",
        "with open('favorite_number.json', 'w') as f:\n",
        "    json.dump(number, f)\n",
        "    print(\"Thanks! I'll remember that.\")"
      ]
    },
    {
      "cell_type": "code",
      "source": [
        "import json\n",
        "\n",
        "with open('favorite_number.json') as f:\n",
        "    number = json.load(f)\n",
        "\n",
        "print(f\"I know your favorite number! It's {number}.\")"
      ],
      "metadata": {
        "colab": {
          "base_uri": "https://localhost:8080/"
        },
        "id": "9KfuwrBZ17fq",
        "outputId": "e1a6cbe1-ed02-4cd0-ed5b-aafde4d1d912"
      },
      "execution_count": 15,
      "outputs": [
        {
          "output_type": "stream",
          "name": "stdout",
          "text": [
            "I know your favorite number! It's 33.\n"
          ]
        }
      ]
    },
    {
      "cell_type": "markdown",
      "metadata": {
        "id": "98ei-CVrPlEJ"
      },
      "source": [
        "## Question 12\n",
        "**Favorite Number Remembered:** Combine the two programs from Question 10 into one file. If the number is already stored, report the favorite number to the user. If not, prompt for the user’s favorite number and store it in a file. Run the program twice to see that it works."
      ]
    },
    {
      "cell_type": "code",
      "source": [
        "import json\n",
        "\n",
        "try:\n",
        "    with open('favorite_number.json') as f:\n",
        "        number = json.load(f)\n",
        "except FileNotFoundError:\n",
        "    number = input(\"What's your favorite number? \")\n",
        "    with open('favorite_number.json', 'w') as f:\n",
        "        json.dump(number, f)\n",
        "    print(\"Thanks, I'll remember that.\")\n",
        "else:\n",
        "    print(f\"I know your favorite number! It's {number}.\")"
      ],
      "metadata": {
        "colab": {
          "base_uri": "https://localhost:8080/"
        },
        "id": "wi0GaYr02GHW",
        "outputId": "d62af286-d44a-46ca-cc4c-7eeffba7e108"
      },
      "execution_count": 16,
      "outputs": [
        {
          "output_type": "stream",
          "name": "stdout",
          "text": [
            "I know your favorite number! It's 33.\n"
          ]
        }
      ]
    }
  ],
  "metadata": {
    "kernelspec": {
      "display_name": "Python 3",
      "language": "python",
      "name": "python3"
    },
    "language_info": {
      "codemirror_mode": {
        "name": "ipython",
        "version": 3
      },
      "file_extension": ".py",
      "mimetype": "text/x-python",
      "name": "python",
      "nbconvert_exporter": "python",
      "pygments_lexer": "ipython3",
      "version": "3.8.5"
    },
    "colab": {
      "provenance": [],
      "include_colab_link": true
    }
  },
  "nbformat": 4,
  "nbformat_minor": 0
}